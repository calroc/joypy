{
 "cells": [
  {
   "cell_type": "markdown",
   "metadata": {},
   "source": [
    "# Treating Trees\n",
    "Although any expression in Joy can be considered to describe a [tree](https://en.wikipedia.org/wiki/Tree_structure) with the quotes as compound nodes and the non-quote values as leaf nodes, in this page I want to talk about [ordered binary trees](https://en.wikipedia.org/wiki/Binary_search_tree) and how to make and use them.\n",
    "\n",
    "The basic structure, in a [crude type notation](https://en.wikipedia.org/wiki/Algebraic_data_type), is:\n",
    "\n",
    "    BTree :: [] | [key value BTree BTree]\n",
    "    \n",
    "That says that a BTree is either the empty quote `[]` or a quote with four items: a key, a value, and two BTrees representing the left and right branches of the tree."
   ]
  },
  {
   "cell_type": "markdown",
   "metadata": {},
   "source": [
    "## A Function to Traverse this Structure\n",
    "Let's take a crack at writing a function that can recursively iterate or traverse these trees.\n",
    "\n",
    "#### Base case `[]`\n",
    "The stopping predicate just has to detect the empty list:\n",
    "\n",
    "    BTree-iter == [not] [E] [R0] [R1] genrec\n",
    "\n",
    "And since there's nothing at this node, we just `pop` it:\n",
    "\n",
    "    BTree-iter == [not] [pop] [R0] [R1] genrec\n",
    "\n",
    "#### Node case `[key value left right]`\n",
    "Now we need to figure out `R0` and `R1`: \n",
    "\n",
    "    BTree-iter == [not] [pop] [R0]            [R1] genrec\n",
    "               == [not] [pop] [R0 [BTree-iter] R1] ifte\n",
    "\n",
    "Let's look at it *in situ*:\n",
    "\n",
    "    [key value left right] R0 [BTree-iter] R1\n",
    "\n",
    "#### Processing the current node.\n",
    "\n",
    "`R0` is almost certainly going to use `dup` to make a copy of the node and then `dip` on some function to process the copy with it:\n",
    "\n",
    "    [key value left right] [F] dupdip                 [BTree-iter] R1\n",
    "    [key value left right]  F  [key value left right] [BTree-iter] R1\n",
    "\n",
    "For example, if we're getting all the keys `F` would be `first`:\n",
    "\n",
    "    R0 == [first] dupdip\n",
    "\n",
    "    [key value left right] [first] dupdip                 [BTree-iter] R1\n",
    "    [key value left right]  first  [key value left right] [BTree-iter] R1\n",
    "    key                            [key value left right] [BTree-iter] R1\n",
    "\n",
    "#### Recur\n",
    "Now `R1` needs to apply `[BTree-iter]` to `left` and `right`.  If we drop the key and value from the node using `rest` twice we are left with an interesting situation:\n",
    "\n",
    "    key [key value left right] [BTree-iter] R1\n",
    "    key [key value left right] [BTree-iter] [rest rest] dip\n",
    "    key [key value left right] rest rest [BTree-iter]\n",
    "    key [left right] [BTree-iter]\n",
    "\n",
    "Hmm, will `step` do?\n",
    "\n",
    "    key [left right] [BTree-iter] step\n",
    "    key left BTree-iter [right] [BTree-iter] step\n",
    "    key left-keys [right] [BTree-iter] step\n",
    "    key left-keys right BTree-iter\n",
    "    key left-keys right-keys\n",
    "\n",
    "Wow. So:\n",
    "\n",
    "    R1 == [rest rest] dip step\n",
    "\n",
    "#### Parameterizing the `F` per-node processing function.\n",
    "\n",
    "    [F] BTree-iter == [not] [pop] [[F] dupdip] [[rest rest] dip step] genrec\n",
    "\n",
    "Working backward:\n",
    "\n",
    "    [not] [pop] [[F] dupdip]            [[rest rest] dip step] genrec\n",
    "    [not] [pop] [F]       [dupdip] cons [[rest rest] dip step] genrec\n",
    "    [F] [not] [pop] roll< [dupdip] cons [[rest rest] dip step] genrec\n",
    "\n",
    "Ergo:\n",
    "\n",
    "    BTree-iter == [not] [pop] roll< [dupdip] cons [[rest rest] dip step] genrec"
   ]
  },
  {
   "cell_type": "code",
   "execution_count": 1,
   "metadata": {},
   "outputs": [],
   "source": [
    "from notebook_preamble import J, V, define"
   ]
  },
  {
   "cell_type": "code",
   "execution_count": 2,
   "metadata": {},
   "outputs": [],
   "source": [
    "define('BTree-iter == [not] [pop] roll< [dupdip] cons [[rest rest] dip step] genrec')"
   ]
  },
  {
   "cell_type": "code",
   "execution_count": 3,
   "metadata": {},
   "outputs": [
    {
     "name": "stdout",
     "output_type": "stream",
     "text": [
      "\n"
     ]
    }
   ],
   "source": [
    "J('[] [23] BTree-iter')  #  It doesn't matter what F is as it won't be used."
   ]
  },
  {
   "cell_type": "code",
   "execution_count": 4,
   "metadata": {},
   "outputs": [
    {
     "name": "stdout",
     "output_type": "stream",
     "text": [
      "'tommy'\n"
     ]
    }
   ],
   "source": [
    "J('[\"tommy\" 23 [] []] [first] BTree-iter')"
   ]
  },
  {
   "cell_type": "code",
   "execution_count": 5,
   "metadata": {},
   "outputs": [
    {
     "name": "stdout",
     "output_type": "stream",
     "text": [
      "'tommy' 'richard' 'jenny'\n"
     ]
    }
   ],
   "source": [
    "J('[\"tommy\" 23 [\"richard\" 48 [] []] [\"jenny\" 18 [] []]] [first] BTree-iter')"
   ]
  },
  {
   "cell_type": "code",
   "execution_count": 6,
   "metadata": {},
   "outputs": [
    {
     "name": "stdout",
     "output_type": "stream",
     "text": [
      "23 48 18\n"
     ]
    }
   ],
   "source": [
    "J('[\"tommy\" 23 [\"richard\" 48 [] []] [\"jenny\" 18 [] []]] [second] BTree-iter')"
   ]
  },
  {
   "cell_type": "markdown",
   "metadata": {},
   "source": [
    "# Adding Nodes to the BTree\n",
    "Let's consider adding nodes to a BTree structure.\n",
    "\n",
    "    BTree value key BTree-add == BTree"
   ]
  },
  {
   "cell_type": "markdown",
   "metadata": {},
   "source": [
    "#### Adding to an empty node.\n",
    "If the current node is `[]` then you just return `[key value [] []]`:\n",
    "\n",
    "    BTree-add == [popop not] [[pop] dipd BTree-new] [R0] [R1] genrec\n",
    "\n",
    "Where `BTree-new` is:\n",
    "\n",
    "    value key BTree-new == [key value [] []]\n",
    "\n",
    "    value key swap [[] []] cons cons\n",
    "    key value      [[] []] cons cons\n",
    "    key      [value [] []]      cons\n",
    "         [key value [] []]\n",
    "\n",
    "    BTree-new == swap [[] []] cons cons"
   ]
  },
  {
   "cell_type": "code",
   "execution_count": 7,
   "metadata": {},
   "outputs": [],
   "source": [
    "define('BTree-new == swap [[] []] cons cons')"
   ]
  },
  {
   "cell_type": "code",
   "execution_count": 8,
   "metadata": {},
   "outputs": [
    {
     "name": "stdout",
     "output_type": "stream",
     "text": [
      "                . 'v' 'k' BTree-new\n",
      "            'v' . 'k' BTree-new\n",
      "        'v' 'k' . BTree-new\n",
      "        'v' 'k' . swap [[] []] cons cons\n",
      "        'k' 'v' . [[] []] cons cons\n",
      "'k' 'v' [[] []] . cons cons\n",
      "'k' ['v' [] []] . cons\n",
      "['k' 'v' [] []] . \n"
     ]
    }
   ],
   "source": [
    "V('\"v\" \"k\" BTree-new')"
   ]
  },
  {
   "cell_type": "markdown",
   "metadata": {},
   "source": [
    "(As an implementation detail, the `[[] []]` literal used in the definition of `BTree-new` will be reused to supply the *constant* tail for *all* new nodes produced by it.  This is one of those cases where you get amortized storage \"for free\" by using [persistent datastructures](https://en.wikipedia.org/wiki/Persistent_data_structure).  Because the tail, which is `((), ((), ()))` in Python, is immutable and embedded in the definition body for `BTree-new`, all new nodes can reuse it as their own tail without fear that some other code somewhere will change it.)"
   ]
  },
  {
   "cell_type": "markdown",
   "metadata": {},
   "source": [
    "#### If the current node isn't empty.\n",
    "\n",
    "We now have to derive `R0` and `R1`, consider:\n",
    "\n",
    "    [key_n value_n left right] value key R0 [BTree-add] R1\n",
    "\n",
    "In this case, there are three possibilites: the key can be greater or less than or equal to the node's key.  In two of those cases we will need to apply a copy of `BTree-add`, so `R0` is pretty much out of the picture.\n",
    "\n",
    "    [R0] == []"
   ]
  },
  {
   "cell_type": "markdown",
   "metadata": {},
   "source": [
    "#### A predicate to compare keys.\n",
    "The first thing we need to do is compare the the key we're adding to see if it is greater than the node key and `branch` accordingly, although in this case it's easier to write a destructive predicate and then use `ifte` to apply it `nullary`:\n",
    "\n",
    "    [key_n value_n left right] value key [BTree-add] R1\n",
    "    [key_n value_n left right] value key [BTree-add] [P >] [T] [E] ifte\n",
    "\n",
    "    [key_n value_n left right] value key [BTree-add] P                   >\n",
    "    [key_n value_n left right] value key [BTree-add] pop roll> pop first >\n",
    "    [key_n value_n left right] value key                 roll> pop first >\n",
    "    key [key_n value_n left right] value                 roll> pop first >\n",
    "    key key_n                                                            >\n",
    "    Boolean\n",
    "\n",
    "    P > == pop roll> pop first >\n",
    "    P < == pop roll> pop first <\n",
    "    P   == pop roll> pop first"
   ]
  },
  {
   "cell_type": "code",
   "execution_count": 9,
   "metadata": {},
   "outputs": [],
   "source": [
    "define('P == pop roll> pop first')"
   ]
  },
  {
   "cell_type": "code",
   "execution_count": 10,
   "metadata": {},
   "outputs": [
    {
     "name": "stdout",
     "output_type": "stream",
     "text": [
      "                              . ['k' 'v' [] []] 'vv' 'kk' [0] P >\n",
      "              ['k' 'v' [] []] . 'vv' 'kk' [0] P >\n",
      "         ['k' 'v' [] []] 'vv' . 'kk' [0] P >\n",
      "    ['k' 'v' [] []] 'vv' 'kk' . [0] P >\n",
      "['k' 'v' [] []] 'vv' 'kk' [0] . P >\n",
      "['k' 'v' [] []] 'vv' 'kk' [0] . pop roll> pop first >\n",
      "    ['k' 'v' [] []] 'vv' 'kk' . roll> pop first >\n",
      "    'kk' ['k' 'v' [] []] 'vv' . pop first >\n",
      "         'kk' ['k' 'v' [] []] . first >\n",
      "                     'kk' 'k' . >\n",
      "                         True . \n"
     ]
    }
   ],
   "source": [
    "V('[\"k\" \"v\" [] []] \"vv\" \"kk\" [0] P >')"
   ]
  },
  {
   "cell_type": "markdown",
   "metadata": {},
   "source": [
    "#### If the key we're adding is greater than the node's key.\n",
    "\n",
    "Here the parantheses are meant to signify that the right-hand side (RHS) is not literal, the code in the parentheses is meant to have been evaluated:\n",
    "\n",
    "    [key_n value_n left right] value key [BTree-add] T == [key_n value_n left (BTree-add key value right)]"
   ]
  },
  {
   "cell_type": "markdown",
   "metadata": {},
   "source": [
    "#### Use `infra` on `K`.\n",
    "So how do we do this?  We know we're going to want to use `infra` on some function `K` that has the key and value to work with, as well as the quoted copy of `BTree-add` to apply somehow:\n",
    "\n",
    "    right left value_n key_n value key [BTree-add] K\n",
    "        ...\n",
    "    right value key BTree-add left value_n key_n\n",
    "\n",
    "Pretty easy:\n",
    "\n",
    "    right left value_n key_n value key [BTree-add] cons cons dipdd\n",
    "    right left value_n key_n [value key BTree-add]           dipdd\n",
    "    right value key BTree-add left value_n key_n\n",
    "\n",
    "So:\n",
    "\n",
    "    K == cons cons dipdd\n",
    "\n",
    "And:\n",
    "\n",
    "    [key_n value_n left right] [value key [BTree-add] K] infra\n",
    "\n",
    "#### Derive `T`.\n",
    "So now we're at getting from this to this:\n",
    "\n",
    "    [key_n value_n left right]  value key [BTree-add] T\n",
    "        ...\n",
    "    [key_n value_n left right] [value key [BTree-add] K] infra\n",
    "\n",
    "And so `T` is just:\n",
    "\n",
    "    value key [BTree-add] T == [value key [BTree-add] K]                infra\n",
    "                          T == [                      K] cons cons cons infra"
   ]
  },
  {
   "cell_type": "code",
   "execution_count": 11,
   "metadata": {},
   "outputs": [],
   "source": [
    "define('K == cons cons dipdd')\n",
    "define('T == [K] cons cons cons infra')"
   ]
  },
  {
   "cell_type": "code",
   "execution_count": 12,
   "metadata": {},
   "outputs": [
    {
     "name": "stdout",
     "output_type": "stream",
     "text": [
      "                              . 'r' 'l' 'v' 'k' 'vv' 'kk' [0] K\n",
      "                          'r' . 'l' 'v' 'k' 'vv' 'kk' [0] K\n",
      "                      'r' 'l' . 'v' 'k' 'vv' 'kk' [0] K\n",
      "                  'r' 'l' 'v' . 'k' 'vv' 'kk' [0] K\n",
      "              'r' 'l' 'v' 'k' . 'vv' 'kk' [0] K\n",
      "         'r' 'l' 'v' 'k' 'vv' . 'kk' [0] K\n",
      "    'r' 'l' 'v' 'k' 'vv' 'kk' . [0] K\n",
      "'r' 'l' 'v' 'k' 'vv' 'kk' [0] . K\n",
      "'r' 'l' 'v' 'k' 'vv' 'kk' [0] . cons cons dipdd\n",
      "'r' 'l' 'v' 'k' 'vv' ['kk' 0] . cons dipdd\n",
      "'r' 'l' 'v' 'k' ['vv' 'kk' 0] . dipdd\n",
      "                          'r' . 'vv' 'kk' 0 'l' 'v' 'k'\n",
      "                     'r' 'vv' . 'kk' 0 'l' 'v' 'k'\n",
      "                'r' 'vv' 'kk' . 0 'l' 'v' 'k'\n",
      "              'r' 'vv' 'kk' 0 . 'l' 'v' 'k'\n",
      "          'r' 'vv' 'kk' 0 'l' . 'v' 'k'\n",
      "      'r' 'vv' 'kk' 0 'l' 'v' . 'k'\n",
      "  'r' 'vv' 'kk' 0 'l' 'v' 'k' . \n"
     ]
    }
   ],
   "source": [
    "V('\"r\" \"l\" \"v\" \"k\" \"vv\" \"kk\" [0] K')"
   ]
  },
  {
   "cell_type": "code",
   "execution_count": 13,
   "metadata": {},
   "outputs": [
    {
     "name": "stdout",
     "output_type": "stream",
     "text": [
      "                                    . ['k' 'v' 'l' 'r'] 'vv' 'kk' [0] T\n",
      "                  ['k' 'v' 'l' 'r'] . 'vv' 'kk' [0] T\n",
      "             ['k' 'v' 'l' 'r'] 'vv' . 'kk' [0] T\n",
      "        ['k' 'v' 'l' 'r'] 'vv' 'kk' . [0] T\n",
      "    ['k' 'v' 'l' 'r'] 'vv' 'kk' [0] . T\n",
      "    ['k' 'v' 'l' 'r'] 'vv' 'kk' [0] . [K] cons cons cons infra\n",
      "['k' 'v' 'l' 'r'] 'vv' 'kk' [0] [K] . cons cons cons infra\n",
      "['k' 'v' 'l' 'r'] 'vv' 'kk' [[0] K] . cons cons infra\n",
      "['k' 'v' 'l' 'r'] 'vv' ['kk' [0] K] . cons infra\n",
      "['k' 'v' 'l' 'r'] ['vv' 'kk' [0] K] . infra\n",
      "                    'r' 'l' 'v' 'k' . 'vv' 'kk' [0] K [] swaack\n",
      "               'r' 'l' 'v' 'k' 'vv' . 'kk' [0] K [] swaack\n",
      "          'r' 'l' 'v' 'k' 'vv' 'kk' . [0] K [] swaack\n",
      "      'r' 'l' 'v' 'k' 'vv' 'kk' [0] . K [] swaack\n",
      "      'r' 'l' 'v' 'k' 'vv' 'kk' [0] . cons cons dipdd [] swaack\n",
      "      'r' 'l' 'v' 'k' 'vv' ['kk' 0] . cons dipdd [] swaack\n",
      "      'r' 'l' 'v' 'k' ['vv' 'kk' 0] . dipdd [] swaack\n",
      "                                'r' . 'vv' 'kk' 0 'l' 'v' 'k' [] swaack\n",
      "                           'r' 'vv' . 'kk' 0 'l' 'v' 'k' [] swaack\n",
      "                      'r' 'vv' 'kk' . 0 'l' 'v' 'k' [] swaack\n",
      "                    'r' 'vv' 'kk' 0 . 'l' 'v' 'k' [] swaack\n",
      "                'r' 'vv' 'kk' 0 'l' . 'v' 'k' [] swaack\n",
      "            'r' 'vv' 'kk' 0 'l' 'v' . 'k' [] swaack\n",
      "        'r' 'vv' 'kk' 0 'l' 'v' 'k' . [] swaack\n",
      "     'r' 'vv' 'kk' 0 'l' 'v' 'k' [] . swaack\n",
      "      ['k' 'v' 'l' 0 'kk' 'vv' 'r'] . \n"
     ]
    }
   ],
   "source": [
    "V('[\"k\" \"v\" \"l\" \"r\"] \"vv\" \"kk\" [0] T')"
   ]
  },
  {
   "cell_type": "markdown",
   "metadata": {},
   "source": [
    "#### If the key we're adding is less than the node's key.\n",
    "This is very very similar to the above:\n",
    "\n",
    "    [key_n value_n left right] value key [BTree-add] E\n",
    "    [key_n value_n left right] value key [BTree-add] [P <] [Te] [Ee] ifte\n",
    "\n",
    "In this case `Te` works that same as `T` but on the left child tree instead of the right, so the only difference is that it must use `dipd` instead of `dipdd`:\n",
    "\n",
    "    Te == [cons cons dipd] cons cons cons infra\n",
    "\n",
    "This suggests an alternate factorization:\n",
    "\n",
    "    ccons == cons cons\n",
    "    T == [ccons dipdd] ccons cons infra\n",
    "    Te == [ccons dipd] ccons cons infra\n",
    "\n",
    "But whatever."
   ]
  },
  {
   "cell_type": "code",
   "execution_count": 14,
   "metadata": {},
   "outputs": [],
   "source": [
    "define('Te == [cons cons dipd] cons cons cons infra')"
   ]
  },
  {
   "cell_type": "code",
   "execution_count": 15,
   "metadata": {},
   "outputs": [
    {
     "name": "stdout",
     "output_type": "stream",
     "text": [
      "                                                 . ['k' 'v' 'l' 'r'] 'vv' 'kk' [0] Te\n",
      "                               ['k' 'v' 'l' 'r'] . 'vv' 'kk' [0] Te\n",
      "                          ['k' 'v' 'l' 'r'] 'vv' . 'kk' [0] Te\n",
      "                     ['k' 'v' 'l' 'r'] 'vv' 'kk' . [0] Te\n",
      "                 ['k' 'v' 'l' 'r'] 'vv' 'kk' [0] . Te\n",
      "                 ['k' 'v' 'l' 'r'] 'vv' 'kk' [0] . [cons cons dipd] cons cons cons infra\n",
      "['k' 'v' 'l' 'r'] 'vv' 'kk' [0] [cons cons dipd] . cons cons cons infra\n",
      "['k' 'v' 'l' 'r'] 'vv' 'kk' [[0] cons cons dipd] . cons cons infra\n",
      "['k' 'v' 'l' 'r'] 'vv' ['kk' [0] cons cons dipd] . cons infra\n",
      "['k' 'v' 'l' 'r'] ['vv' 'kk' [0] cons cons dipd] . infra\n",
      "                                 'r' 'l' 'v' 'k' . 'vv' 'kk' [0] cons cons dipd [] swaack\n",
      "                            'r' 'l' 'v' 'k' 'vv' . 'kk' [0] cons cons dipd [] swaack\n",
      "                       'r' 'l' 'v' 'k' 'vv' 'kk' . [0] cons cons dipd [] swaack\n",
      "                   'r' 'l' 'v' 'k' 'vv' 'kk' [0] . cons cons dipd [] swaack\n",
      "                   'r' 'l' 'v' 'k' 'vv' ['kk' 0] . cons dipd [] swaack\n",
      "                   'r' 'l' 'v' 'k' ['vv' 'kk' 0] . dipd [] swaack\n",
      "                                         'r' 'l' . 'vv' 'kk' 0 'v' 'k' [] swaack\n",
      "                                    'r' 'l' 'vv' . 'kk' 0 'v' 'k' [] swaack\n",
      "                               'r' 'l' 'vv' 'kk' . 0 'v' 'k' [] swaack\n",
      "                             'r' 'l' 'vv' 'kk' 0 . 'v' 'k' [] swaack\n",
      "                         'r' 'l' 'vv' 'kk' 0 'v' . 'k' [] swaack\n",
      "                     'r' 'l' 'vv' 'kk' 0 'v' 'k' . [] swaack\n",
      "                  'r' 'l' 'vv' 'kk' 0 'v' 'k' [] . swaack\n",
      "                   ['k' 'v' 0 'kk' 'vv' 'l' 'r'] . \n"
     ]
    }
   ],
   "source": [
    "V('[\"k\" \"v\" \"l\" \"r\"] \"vv\" \"kk\" [0] Te')"
   ]
  },
  {
   "cell_type": "markdown",
   "metadata": {},
   "source": [
    "#### Else the keys must be equal.\n",
    "This means we must find:\n",
    "\n",
    "    [key_n value_n left right] value key [BTree-add] Ee\n",
    "        ...\n",
    "    [key value left right]\n",
    "\n",
    "This is another easy one:\n",
    "\n",
    "    Ee == pop swap roll< rest rest cons cons\n",
    "\n",
    "    [key_n value_n left right] value key [BTree-add] pop swap roll< rest rest cons cons\n",
    "    [key_n value_n left right] value key                 swap roll< rest rest cons cons\n",
    "    [key_n value_n left right] key value                      roll< rest rest cons cons\n",
    "    key value [key_n value_n left right]                            rest rest cons cons\n",
    "    key value [              left right]                                      cons cons\n",
    "              [key   value   left right]"
   ]
  },
  {
   "cell_type": "code",
   "execution_count": 16,
   "metadata": {},
   "outputs": [],
   "source": [
    "define('Ee == pop swap roll< rest rest cons cons')"
   ]
  },
  {
   "cell_type": "code",
   "execution_count": 17,
   "metadata": {},
   "outputs": [
    {
     "name": "stdout",
     "output_type": "stream",
     "text": [
      "                               . ['k' 'v' 'l' 'r'] 'vv' 'k' [0] Ee\n",
      "             ['k' 'v' 'l' 'r'] . 'vv' 'k' [0] Ee\n",
      "        ['k' 'v' 'l' 'r'] 'vv' . 'k' [0] Ee\n",
      "    ['k' 'v' 'l' 'r'] 'vv' 'k' . [0] Ee\n",
      "['k' 'v' 'l' 'r'] 'vv' 'k' [0] . Ee\n",
      "['k' 'v' 'l' 'r'] 'vv' 'k' [0] . pop swap roll< rest rest cons cons\n",
      "    ['k' 'v' 'l' 'r'] 'vv' 'k' . swap roll< rest rest cons cons\n",
      "    ['k' 'v' 'l' 'r'] 'k' 'vv' . roll< rest rest cons cons\n",
      "    'k' 'vv' ['k' 'v' 'l' 'r'] . rest rest cons cons\n",
      "        'k' 'vv' ['v' 'l' 'r'] . rest cons cons\n",
      "            'k' 'vv' ['l' 'r'] . cons cons\n",
      "            'k' ['vv' 'l' 'r'] . cons\n",
      "            ['k' 'vv' 'l' 'r'] . \n"
     ]
    }
   ],
   "source": [
    "V('[\"k\" \"v\" \"l\" \"r\"] \"vv\" \"k\" [0] Ee')"
   ]
  },
  {
   "cell_type": "code",
   "execution_count": 18,
   "metadata": {},
   "outputs": [],
   "source": [
    "define('E == [P <] [Te] [Ee] ifte')"
   ]
  },
  {
   "cell_type": "markdown",
   "metadata": {},
   "source": [
    "#### Now we can define `BTree-add`\n",
    "    BTree-add == [popop not] [[pop] dipd BTree-new] [] [[P >] [T] [E] ifte] genrec\n",
    "\n",
    "Putting it all together:\n",
    "\n",
    "    BTree-new == swap [[] []] cons cons\n",
    "    P == pop roll> pop first\n",
    "    T == [cons cons dipdd] cons cons cons infra\n",
    "    Te == [cons cons dipd] cons cons cons infra\n",
    "    Ee == pop swap roll< rest rest cons cons\n",
    "    E == [P <] [Te] [Ee] ifte\n",
    "\n",
    "    BTree-add == [popop not] [[pop] dipd BTree-new] [] [[P >] [T] [E] ifte] genrec"
   ]
  },
  {
   "cell_type": "code",
   "execution_count": 19,
   "metadata": {},
   "outputs": [],
   "source": [
    "define('BTree-add == [popop not] [[pop] dipd BTree-new] [] [[P >] [T] [E] ifte] genrec')"
   ]
  },
  {
   "cell_type": "code",
   "execution_count": 20,
   "metadata": {},
   "outputs": [
    {
     "name": "stdout",
     "output_type": "stream",
     "text": [
      "['b' 23 [] []]\n"
     ]
    }
   ],
   "source": [
    "J('[] 23 \"b\" BTree-add')  # Initial"
   ]
  },
  {
   "cell_type": "code",
   "execution_count": 21,
   "metadata": {},
   "outputs": [
    {
     "name": "stdout",
     "output_type": "stream",
     "text": [
      "['b' 23 [] ['c' 88 [] []]]\n"
     ]
    }
   ],
   "source": [
    "J('[\"b\" 23 [] []] 88 \"c\" BTree-add')  # Less than"
   ]
  },
  {
   "cell_type": "code",
   "execution_count": 22,
   "metadata": {},
   "outputs": [
    {
     "name": "stdout",
     "output_type": "stream",
     "text": [
      "['b' 23 ['a' 88 [] []] []]\n"
     ]
    }
   ],
   "source": [
    "J('[\"b\" 23 [] []] 88 \"a\" BTree-add')  # Greater than"
   ]
  },
  {
   "cell_type": "code",
   "execution_count": 23,
   "metadata": {},
   "outputs": [
    {
     "name": "stdout",
     "output_type": "stream",
     "text": [
      "['b' 88 [] []]\n"
     ]
    }
   ],
   "source": [
    "J('[\"b\" 23 [] []] 88 \"b\" BTree-add')  # Equal to"
   ]
  },
  {
   "cell_type": "code",
   "execution_count": 24,
   "metadata": {
    "scrolled": true
   },
   "outputs": [
    {
     "name": "stdout",
     "output_type": "stream",
     "text": [
      "['a' 23 [] ['b' 88 [] ['c' 44 [] []]]]\n"
     ]
    }
   ],
   "source": [
    "J('[] 23 \"a\" BTree-add 88 \"b\" BTree-add 44 \"c\" BTree-add')  # Series."
   ]
  },
  {
   "cell_type": "markdown",
   "metadata": {},
   "source": [
    "We can use this to make a set-like datastructure by just setting values to e.g. 0 and ignoring them.  It's set-like in that duplicate items added to it will only occur once within it, and we can query it in [$O(\\log_2 N)$](https://en.wikipedia.org/wiki/Binary_search_tree#cite_note-2) time."
   ]
  },
  {
   "cell_type": "code",
   "execution_count": 25,
   "metadata": {},
   "outputs": [
    {
     "name": "stdout",
     "output_type": "stream",
     "text": [
      "[3 0 [2 0 [] []] [9 0 [5 0 [4 0 [] []] [8 0 [6 0 [] [7 0 [] []]] []]] []]]\n"
     ]
    }
   ],
   "source": [
    "J('[] [3 9 5 2 8 6 7 8 4] [0 swap BTree-add] step')"
   ]
  },
  {
   "cell_type": "code",
   "execution_count": 26,
   "metadata": {},
   "outputs": [],
   "source": [
    "define('to_set == [] swap [0 swap BTree-add] step')"
   ]
  },
  {
   "cell_type": "code",
   "execution_count": 27,
   "metadata": {},
   "outputs": [
    {
     "name": "stdout",
     "output_type": "stream",
     "text": [
      "[3 0 [2 0 [] []] [9 0 [5 0 [4 0 [] []] [8 0 [6 0 [] [7 0 [] []]] []]] []]]\n"
     ]
    }
   ],
   "source": [
    "J('[3 9 5 2 8 6 7 8 4] to_set')"
   ]
  },
  {
   "cell_type": "markdown",
   "metadata": {},
   "source": [
    "And with that we can write a little program to remove duplicate items from a list."
   ]
  },
  {
   "cell_type": "code",
   "execution_count": 28,
   "metadata": {},
   "outputs": [],
   "source": [
    "define('unique == [to_set [first] BTree-iter] cons run')"
   ]
  },
  {
   "cell_type": "code",
   "execution_count": 29,
   "metadata": {
    "scrolled": true
   },
   "outputs": [
    {
     "name": "stdout",
     "output_type": "stream",
     "text": [
      "[7 6 8 4 5 9 2 3]\n"
     ]
    }
   ],
   "source": [
    "J('[3 9 3 5 2 9 8 8 8 6 2 7 8 4 3] unique')  # Filter duplicate items."
   ]
  },
  {
   "cell_type": "markdown",
   "metadata": {},
   "source": [
    "# `cmp` combinator\n",
    "Instead of all this mucking about with nested `ifte` let's just go whole hog and define `cmp` which takes two values and three quoted programs on the stack and runs one of the three depending on the results of comparing the two values:\n",
    "\n",
    "       a b [G] [E] [L] cmp\n",
    "    ------------------------- a > b\n",
    "            G\n",
    "\n",
    "       a b [G] [E] [L] cmp\n",
    "    ------------------------- a = b\n",
    "                E\n",
    "\n",
    "       a b [G] [E] [L] cmp\n",
    "    ------------------------- a < b\n",
    "                    L\n",
    "\n",
    "We need a new non-destructive predicate `P`:\n",
    "\n",
    "    [key_n value_n left right] value key [BTree-add] P\n",
    "    [key_n value_n left right] value key [BTree-add] over [Q] nullary\n",
    "    [key_n value_n left right] value key [BTree-add] key  [Q] nullary\n",
    "    [key_n value_n left right] value key [BTree-add] key   Q\n",
    "    [key_n value_n left right] value key [BTree-add] key   popop popop first\n",
    "    [key_n value_n left right] value key                         popop first\n",
    "    [key_n value_n left right]                                         first\n",
    "     key_n\n",
    "    [key_n value_n left right] value key [BTree-add] key  [Q] nullary\n",
    "    [key_n value_n left right] value key [BTree-add] key key_n\n",
    "\n",
    "    P == over [popop popop first] nullary\n",
    "\n",
    "Here are the definitions again, pruned and renamed in some cases:\n",
    "\n",
    "    BTree-new == swap [[] []] cons cons\n",
    "    P == over [popop popop first] nullary\n",
    "    T> == [cons cons dipdd] cons cons cons infra\n",
    "    T< == [cons cons dipd] cons cons cons infra\n",
    "    E == pop swap roll< rest rest cons cons\n",
    "\n",
    "Using `cmp` to simplify [our code above at `R1`](#If-the-current-node-isn't-empty.):\n",
    "\n",
    "    [key_n value_n left right] value key [BTree-add] R1\n",
    "    [key_n value_n left right] value key [BTree-add] P [T>] [E] [T<] cmp\n",
    "\n",
    "The line above becomes one of the three lines below:\n",
    "\n",
    "    [key_n value_n left right] value key [BTree-add] T>\n",
    "    [key_n value_n left right] value key [BTree-add] E\n",
    "    [key_n value_n left right] value key [BTree-add] T<\n",
    "\n",
    "The definition is a little longer but, I think, more elegant and easier to understand:\n",
    "\n",
    "    BTree-add == [popop not] [[pop] dipd BTree-new] [] [P [T>] [E] [T<] cmp] genrec\n"
   ]
  },
  {
   "cell_type": "code",
   "execution_count": 30,
   "metadata": {},
   "outputs": [],
   "source": [
    "from joy.library import FunctionWrapper\n",
    "from joy.utils.stack import pushback\n",
    "from notebook_preamble import D\n",
    "\n",
    "\n",
    "@FunctionWrapper\n",
    "def cmp_(stack, expression, dictionary):\n",
    "    L, (E, (G, (b, (a, stack)))) = stack\n",
    "    expression = pushback(G if a > b else L if a < b else E, expression)\n",
    "    return stack, expression, dictionary\n",
    "\n",
    "\n",
    "D['cmp'] = cmp_"
   ]
  },
  {
   "cell_type": "code",
   "execution_count": 31,
   "metadata": {},
   "outputs": [
    {
     "name": "stdout",
     "output_type": "stream",
     "text": [
      "'G'\n"
     ]
    }
   ],
   "source": [
    "J(\"1 0 ['G'] ['E'] ['L'] cmp\")"
   ]
  },
  {
   "cell_type": "code",
   "execution_count": 32,
   "metadata": {},
   "outputs": [
    {
     "name": "stdout",
     "output_type": "stream",
     "text": [
      "'E'\n"
     ]
    }
   ],
   "source": [
    "J(\"1 1 ['G'] ['E'] ['L'] cmp\")"
   ]
  },
  {
   "cell_type": "code",
   "execution_count": 33,
   "metadata": {},
   "outputs": [
    {
     "name": "stdout",
     "output_type": "stream",
     "text": [
      "'L'\n"
     ]
    }
   ],
   "source": [
    "J(\"0 1 ['G'] ['E'] ['L'] cmp\")"
   ]
  },
  {
   "cell_type": "code",
   "execution_count": 34,
   "metadata": {},
   "outputs": [],
   "source": [
    "from joy.library import DefinitionWrapper\n",
    "\n",
    "\n",
    "DefinitionWrapper.add_definitions('''\n",
    "\n",
    "P == over [popop popop first] nullary\n",
    "T> == [cons cons dipdd] cons cons cons infra\n",
    "T< == [cons cons dipd] cons cons cons infra\n",
    "E == pop swap roll< rest rest cons cons\n",
    "\n",
    "BTree-add == [popop not] [[pop] dipd BTree-new] [] [P [T>] [E] [T<] cmp] genrec\n",
    "\n",
    "''', D)"
   ]
  },
  {
   "cell_type": "code",
   "execution_count": 35,
   "metadata": {},
   "outputs": [
    {
     "name": "stdout",
     "output_type": "stream",
     "text": [
      "['b' 23 [] []]\n"
     ]
    }
   ],
   "source": [
    "J('[] 23 \"b\" BTree-add')  # Initial"
   ]
  },
  {
   "cell_type": "code",
   "execution_count": 36,
   "metadata": {},
   "outputs": [
    {
     "name": "stdout",
     "output_type": "stream",
     "text": [
      "['b' 23 [] ['c' 88 [] []]]\n"
     ]
    }
   ],
   "source": [
    "J('[\"b\" 23 [] []] 88 \"c\" BTree-add')  # Less than"
   ]
  },
  {
   "cell_type": "code",
   "execution_count": 37,
   "metadata": {},
   "outputs": [
    {
     "name": "stdout",
     "output_type": "stream",
     "text": [
      "['b' 23 ['a' 88 [] []] []]\n"
     ]
    }
   ],
   "source": [
    "J('[\"b\" 23 [] []] 88 \"a\" BTree-add')  # Greater than"
   ]
  },
  {
   "cell_type": "code",
   "execution_count": 38,
   "metadata": {},
   "outputs": [
    {
     "name": "stdout",
     "output_type": "stream",
     "text": [
      "['b' 88 [] []]\n"
     ]
    }
   ],
   "source": [
    "J('[\"b\" 23 [] []] 88 \"b\" BTree-add')  # Equal to"
   ]
  },
  {
   "cell_type": "code",
   "execution_count": 39,
   "metadata": {
    "scrolled": true
   },
   "outputs": [
    {
     "name": "stdout",
     "output_type": "stream",
     "text": [
      "['a' 23 [] ['b' 88 [] ['c' 44 [] []]]]\n"
     ]
    }
   ],
   "source": [
    "J('[] 23 \"a\" BTree-add 88 \"b\" BTree-add 44 \"c\" BTree-add')  # Series."
   ]
  },
  {
   "cell_type": "markdown",
   "metadata": {},
   "source": [
    "### Specializing `cmp` for >= <= !=\n",
    "\n",
    "    a b [G] [E] [L] cmp\n",
    "    a b [GE] dup [L] cmp\n",
    "    a b [G] [LE] dup cmp\n",
    "    a b [NE] [E] over cmp\n",
    "\n",
    "But you wouldn't do this, you would just use `>=` or whatever.  The `cmp` combinator is useful when you have to do three different things depending on the >=< greater-than, equal-to, or less-than result of comparison."
   ]
  },
  {
   "cell_type": "markdown",
   "metadata": {},
   "source": [
    "# Factoring and naming\n",
    "It may seem silly, but a big part of programming in Forth (and therefore in Joy) is the idea of small, highly-factored definitions.  If you choose names carefully the resulting definitions can take on a semantic role.\n",
    "\n",
    "    get-node-key == popop popop first\n",
    "    remove-key-and-value-from-node == rest rest\n",
    "    pack-key-and-value == cons cons\n",
    "    prep-new-key-and-value == pop swap roll<\n",
    "    pack-and-apply == [pack-key-and-value] swoncat cons pack-key-and-value infra\n",
    "\n",
    "    BTree-new == swap [[] []] pack-key-and-value\n",
    "    P == over [get-node-key] nullary\n",
    "    T> == [dipdd] pack-and-apply\n",
    "    T< == [dipd] pack-and-apply\n",
    "    E == prep-new-key-and-value remove-key-and-value-from-node pack-key-and-value\n"
   ]
  },
  {
   "cell_type": "markdown",
   "metadata": {},
   "source": [
    "# A Version of `BTree-iter` that does In-Order Traversal"
   ]
  },
  {
   "cell_type": "markdown",
   "metadata": {},
   "source": [
    "If you look back to the [non-empty case of the `BTree-iter` function](#Node-case-[key-value-left-right]) we can design a varient that first processes the left child, then the current node, then the right child.  This will allow us to traverse the tree in sort order.\n",
    "\n",
    "    BTree-iter-order == [not] [pop] [R0 [BTree-iter] R1] ifte\n",
    "\n",
    "To define `R0` and `R1` it helps to look at them as they will appear when they run:\n",
    "\n",
    "    [key value left right] R0 [BTree-iter-order] R1"
   ]
  },
  {
   "cell_type": "markdown",
   "metadata": {},
   "source": [
    "#### Process the left child.\n",
    "Staring at this for a bit suggests `dup third` to start:\n",
    "\n",
    "    [key value left right] R0        [BTree-iter-order] R1\n",
    "    [key value left right] dup third [BTree-iter-order] R1\n",
    "    [key value left right] left      [BTree-iter-order] R1\n",
    "\n",
    "Now maybe:\n",
    "\n",
    "    [key value left right] left [BTree-iter-order] [cons dip] dupdip\n",
    "    [key value left right] left [BTree-iter-order] cons dip [BTree-iter-order]\n",
    "    [key value left right] [left BTree-iter-order]      dip [BTree-iter-order]\n",
    "    left BTree-iter-order [key value left right]            [BTree-iter-order]"
   ]
  },
  {
   "cell_type": "markdown",
   "metadata": {},
   "source": [
    "#### Process the current node.\n",
    "So far, so good.  Now we need to process the current node's values:\n",
    "\n",
    "    left BTree-iter-order [key value left right] [BTree-iter-order] [[F] dupdip] dip\n",
    "    left BTree-iter-order [key value left right] [F] dupdip [BTree-iter-order]\n",
    "    left BTree-iter-order [key value left right] F [key value left right] [BTree-iter-order]\n",
    "\n",
    "If `F` needs items from the stack below the left stuff it should have `cons`'d them before beginning maybe?  For functions like `first` it works fine as-is.\n",
    "\n",
    "    left BTree-iter-order [key value left right] first [key value left right] [BTree-iter-order]\n",
    "    left BTree-iter-order key [key value left right] [BTree-iter-order]"
   ]
  },
  {
   "cell_type": "markdown",
   "metadata": {},
   "source": [
    "#### Process the right child.\n",
    "First ditch the rest of the node and get the right child:\n",
    "\n",
    "    left BTree-iter-order key [key value left right] [BTree-iter-order] [rest rest rest first] dip\n",
    "    left BTree-iter-order key right [BTree-iter-order]\n",
    "\n",
    "Then, of course, we just need `i` to run `BTree-iter-order` on the right side:\n",
    "\n",
    "    left BTree-iter-order key right [BTree-iter-order] i\n",
    "    left BTree-iter-order key right BTree-iter-order"
   ]
  },
  {
   "cell_type": "markdown",
   "metadata": {},
   "source": [
    "#### Defining `BTree-iter-order`\n",
    "The result is a little awkward:\n",
    "\n",
    "    R1 == [cons dip] dupdip [[F] dupdip] dip [rest rest rest first] dip i\n",
    "\n",
    "Let's do a little semantic factoring:\n",
    "\n",
    "    fourth == rest rest rest first\n",
    "\n",
    "    proc_left == [cons dip] dupdip\n",
    "    proc_current == [[F] dupdip] dip\n",
    "    proc_right == [fourth] dip i\n",
    "\n",
    "    BTree-iter-order == [not] [pop] [dup third] [proc_left proc_current proc_right] genrec\n",
    "\n",
    "Now we can sort sequences."
   ]
  },
  {
   "cell_type": "code",
   "execution_count": 40,
   "metadata": {},
   "outputs": [],
   "source": [
    "define('BTree-iter-order == [not] [pop] [dup third] [[cons dip] dupdip [[first] dupdip] dip [rest rest rest first] dip i] genrec')"
   ]
  },
  {
   "cell_type": "code",
   "execution_count": 41,
   "metadata": {},
   "outputs": [
    {
     "name": "stdout",
     "output_type": "stream",
     "text": [
      "2 3 4 5 6 7 8 9\n"
     ]
    }
   ],
   "source": [
    "J('[3 9 5 2 8 6 7 8 4] to_set BTree-iter-order')"
   ]
  },
  {
   "cell_type": "markdown",
   "metadata": {},
   "source": [
    "## Miscellaneous Crap"
   ]
  },
  {
   "cell_type": "markdown",
   "metadata": {},
   "source": [
    "### Toy with it.\n",
    "Let's reexamine:\n",
    "\n",
    "    [key value left right] R0 [BTree-iter-order] R1\n",
    "        ...\n",
    "    left BTree-iter-order key value F right BTree-iter-order\n",
    "\n",
    "\n",
    "    [key value left right] disenstacken swap\n",
    "     key value left right               swap\n",
    "     key value right left\n",
    "\n",
    "    key value right left [BTree-iter-order] [cons dipdd] dupdip\n",
    "    key value right left [BTree-iter-order] cons dipdd [BTree-iter-order]\n",
    "    key value right [left BTree-iter-order]      dipdd [BTree-iter-order]\n",
    "    left BTree-iter-order key value right              [BTree-iter-order]\n",
    "\n",
    "    left BTree-iter-order key value   right [F] dip [BTree-iter-order]\n",
    "    left BTree-iter-order key value F right         [BTree-iter-order] i\n",
    "    left BTree-iter-order key value F right          BTree-iter-order\n",
    "\n",
    "So:\n",
    "\n",
    "    R0 == disenstacken swap\n",
    "    R1 == [cons dipdd [F] dip] dupdip i\n",
    "\n",
    "    [key value left right] R0                [BTree-iter-order] R1\n",
    "    [key value left right] disenstacken swap [BTree-iter-order] [cons dipdd [F] dip] dupdip i\n",
    "     key value right left                    [BTree-iter-order] [cons dipdd [F] dip] dupdip i\n",
    "\n",
    "     key value right left [BTree-iter-order] cons dipdd [F] dip [BTree-iter-order] i\n",
    "     key value right [left BTree-iter-order]      dipdd [F] dip [BTree-iter-order] i\n",
    "     left BTree-iter-order key value   right            [F] dip [BTree-iter-order] i\n",
    "     left BTree-iter-order key value F right                    [BTree-iter-order] i\n",
    "     left BTree-iter-order key value F right                     BTree-iter-order\n",
    "\n",
    "\n",
    "    BTree-iter-order == [not] [pop] [disenstacken swap] [[cons dipdd [F] dip] dupdip i] genrec"
   ]
  },
  {
   "cell_type": "markdown",
   "metadata": {},
   "source": [
    "#### Refactor `cons cons`\n",
    "    cons2 == cons cons\n",
    "\n",
    "Refactoring:\n",
    "\n",
    "    BTree-new == swap [[] []] cons2\n",
    "    T == [cons2 dipdd] cons2 cons infra\n",
    "    Te == [cons2 dipd] cons2 cons infra\n",
    "    Ee == pop swap roll< rest rest cons2\n",
    "\n",
    "It's used a lot because it's tied to the fact that there are two \"data items\" in each node.  This point to a more general factorization that would render a combinator that could work for other geometries of trees."
   ]
  },
  {
   "cell_type": "markdown",
   "metadata": {},
   "source": [
    "## A General Form for Trees\n",
    "A general form for tree data with N children per node:\n",
    "\n",
    "    [[data] [child0] ... [childN-1]]\n",
    "\n",
    "Suggests a general form of recursive iterator, but I have to go walk the dogs at the mo'."
   ]
  },
  {
   "cell_type": "markdown",
   "metadata": {},
   "source": [
    "#### Just make `[F]` a parameter.\n",
    "We can generalize to a sort of pure form:\n",
    "\n",
    "    BTree-iter == [not] [pop] [[F]]            [R1] genrec\n",
    "               == [not] [pop] [[F] [BTree-iter] R1] ifte\n",
    "\n",
    "Putting `[F]` to the left as a given:\n",
    "\n",
    "     [F] unit [not] [pop] roll< [R1] genrec\n",
    "    [[F]]     [not] [pop] roll< [R1] genrec\n",
    "              [not] [pop] [[F]] [R1] genrec\n",
    "\n",
    "Let's us define a parameterized form:\n",
    "\n",
    "    BTree-iter == unit [not] [pop] roll< [R1] genrec\n",
    "\n",
    "So in the general case of non-empty nodes:\n",
    "\n",
    "    [key value left right] [F] [BTree-iter] R1\n",
    "\n",
    "We just define `R1` to do whatever it has to to process the node.  For example:\n",
    "\n",
    "    [key value left right] [F] [BTree-iter] R1\n",
    "        ...\n",
    "    key value F   left BTree-iter   right BTree-iter\n",
    "    left BTree-iter   key value F   right BTree-iter\n",
    "    left BTree-iter   right BTree-iter   key value F\n",
    "\n",
    "Pre-, ??-, post-order traversals.\n",
    "\n",
    "    [key value  left right] uncons uncons\n",
    "     key value [left right]\n",
    "\n",
    "For pre- and post-order we can use the `step` trick:\n",
    "\n",
    "    [left right] [BTree-iter] step\n",
    "        ...\n",
    "    left BTree-iter right BTree-iter\n",
    "\n",
    "We worked out one scheme for ?in-order? traversal above, but maybe we can do better?\n",
    "\n",
    "    [key value left right]              [F] [BTree-iter] [disenstacken] dipd\n",
    "    [key value left right] disenstacken [F] [BTree-iter]\n",
    "     key value left right               [F] [BTree-iter]\n",
    "\n",
    "    key value left right [F] [BTree-iter] R1.1\n",
    "\n",
    "Hmm...\n",
    "\n",
    "    key value left right              [F] [BTree-iter] tuck\n",
    "    key value left right [BTree-iter] [F] [BTree-iter] \n",
    "\n",
    "\n",
    "    [key value left right]                          [F] [BTree-iter] [disenstacken [roll>] dip] dipd\n",
    "    [key value left right] disenstacken [roll>] dip [F] [BTree-iter]\n",
    "     key value left right               [roll>] dip [F] [BTree-iter]\n",
    "     key value left roll> right                     [F] [BTree-iter]\n",
    "     left key value right                           [F] [BTree-iter]\n",
    "\n",
    "    left            key value   right              [F] [BTree-iter] tuck foo\n",
    "    left            key value   right [BTree-iter] [F] [BTree-iter] foo\n",
    "        ...\n",
    "    left BTree-iter key value F right  BTree-iter\n",
    "\n",
    "We could just let `[R1]` be a parameter too, for maximum flexibility.\n",
    "\n",
    "#### Automatically deriving the recursion combinator for a data type?\n",
    "\n",
    "If I understand it correctly, the \"Bananas...\" paper talks about a way to build the processor function automatically from the description of the type.  I think if we came up with an elegant way for the Joy code to express that, it would be cool.  In Joypy the definitions can be circular because lookup happens at evaluation, not parsing.  E.g.:\n",
    "\n",
    "    A == ... B ...\n",
    "    B == ... A ...\n",
    "\n",
    "That's fine.  Circular datastructures can't be made though.\n",
    "\n"
   ]
  },
  {
   "cell_type": "code",
   "execution_count": 42,
   "metadata": {},
   "outputs": [],
   "source": []
  },
  {
   "cell_type": "code",
   "execution_count": 42,
   "metadata": {},
   "outputs": [],
   "source": []
  },
  {
   "cell_type": "code",
   "execution_count": 42,
   "metadata": {},
   "outputs": [],
   "source": []
  },
  {
   "cell_type": "code",
   "execution_count": 42,
   "metadata": {},
   "outputs": [],
   "source": []
  },
  {
   "cell_type": "code",
   "execution_count": 42,
   "metadata": {},
   "outputs": [],
   "source": []
  },
  {
   "cell_type": "code",
   "execution_count": 42,
   "metadata": {},
   "outputs": [],
   "source": []
  },
  {
   "cell_type": "code",
   "execution_count": 42,
   "metadata": {},
   "outputs": [],
   "source": []
  },
  {
   "cell_type": "code",
   "execution_count": 42,
   "metadata": {},
   "outputs": [],
   "source": []
  },
  {
   "cell_type": "code",
   "execution_count": 42,
   "metadata": {},
   "outputs": [],
   "source": []
  },
  {
   "cell_type": "code",
   "execution_count": 42,
   "metadata": {},
   "outputs": [],
   "source": []
  },
  {
   "cell_type": "code",
   "execution_count": 42,
   "metadata": {},
   "outputs": [],
   "source": []
  },
  {
   "cell_type": "code",
   "execution_count": 42,
   "metadata": {},
   "outputs": [],
   "source": []
  }
 ],
 "metadata": {
  "kernelspec": {
   "display_name": "Python 2",
   "language": "python",
   "name": "python2"
  },
  "language_info": {
   "codemirror_mode": {
    "name": "ipython",
    "version": 2
   },
   "file_extension": ".py",
   "mimetype": "text/x-python",
   "name": "python",
   "nbconvert_exporter": "python",
   "pygments_lexer": "ipython2",
   "version": "2.7.13"
  }
 },
 "nbformat": 4,
 "nbformat_minor": 2
}
