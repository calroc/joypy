{
 "cells": [
  {
   "cell_type": "markdown",
   "metadata": {},
   "source": [
    "# Factorial Function and Paramorphisms"
   ]
  },
  {
   "cell_type": "code",
   "execution_count": 1,
   "metadata": {},
   "outputs": [],
   "source": [
    "from notebook_preamble import J, V, define"
   ]
  },
  {
   "cell_type": "markdown",
   "metadata": {},
   "source": [
    "# `loop` Form"
   ]
  },
  {
   "cell_type": "code",
   "execution_count": 2,
   "metadata": {},
   "outputs": [],
   "source": [
    "define('factorial == 1 swap dup 1 > [[*] dupdip -- dup 1 >] loop pop')"
   ]
  },
  {
   "cell_type": "code",
   "execution_count": 3,
   "metadata": {},
   "outputs": [
    {
     "name": "stdout",
     "output_type": "stream",
     "text": [
      "                                  . 3 factorial\n",
      "                                3 . factorial\n",
      "                                3 . 1 swap dup 1 > [[*] dupdip -- dup 1 >] loop pop\n",
      "                              3 1 . swap dup 1 > [[*] dupdip -- dup 1 >] loop pop\n",
      "                              1 3 . dup 1 > [[*] dupdip -- dup 1 >] loop pop\n",
      "                            1 3 3 . 1 > [[*] dupdip -- dup 1 >] loop pop\n",
      "                          1 3 3 1 . > [[*] dupdip -- dup 1 >] loop pop\n",
      "                         1 3 True . [[*] dupdip -- dup 1 >] loop pop\n",
      " 1 3 True [[*] dupdip -- dup 1 >] . loop pop\n",
      "                              1 3 . [*] dupdip -- dup 1 > [[*] dupdip -- dup 1 >] loop pop\n",
      "                          1 3 [*] . dupdip -- dup 1 > [[*] dupdip -- dup 1 >] loop pop\n",
      "                              1 3 . * 3 -- dup 1 > [[*] dupdip -- dup 1 >] loop pop\n",
      "                                3 . 3 -- dup 1 > [[*] dupdip -- dup 1 >] loop pop\n",
      "                              3 3 . -- dup 1 > [[*] dupdip -- dup 1 >] loop pop\n",
      "                              3 2 . dup 1 > [[*] dupdip -- dup 1 >] loop pop\n",
      "                            3 2 2 . 1 > [[*] dupdip -- dup 1 >] loop pop\n",
      "                          3 2 2 1 . > [[*] dupdip -- dup 1 >] loop pop\n",
      "                         3 2 True . [[*] dupdip -- dup 1 >] loop pop\n",
      " 3 2 True [[*] dupdip -- dup 1 >] . loop pop\n",
      "                              3 2 . [*] dupdip -- dup 1 > [[*] dupdip -- dup 1 >] loop pop\n",
      "                          3 2 [*] . dupdip -- dup 1 > [[*] dupdip -- dup 1 >] loop pop\n",
      "                              3 2 . * 2 -- dup 1 > [[*] dupdip -- dup 1 >] loop pop\n",
      "                                6 . 2 -- dup 1 > [[*] dupdip -- dup 1 >] loop pop\n",
      "                              6 2 . -- dup 1 > [[*] dupdip -- dup 1 >] loop pop\n",
      "                              6 1 . dup 1 > [[*] dupdip -- dup 1 >] loop pop\n",
      "                            6 1 1 . 1 > [[*] dupdip -- dup 1 >] loop pop\n",
      "                          6 1 1 1 . > [[*] dupdip -- dup 1 >] loop pop\n",
      "                        6 1 False . [[*] dupdip -- dup 1 >] loop pop\n",
      "6 1 False [[*] dupdip -- dup 1 >] . loop pop\n",
      "                              6 1 . pop\n",
      "                                6 . \n"
     ]
    }
   ],
   "source": [
    "V('3 factorial')"
   ]
  },
  {
   "cell_type": "code",
   "execution_count": 4,
   "metadata": {},
   "outputs": [],
   "source": [
    "define('P == dup 1 >')\n",
    "define('factorial == 1 swap P [[*] dupdip -- P] loop pop')"
   ]
  },
  {
   "cell_type": "code",
   "execution_count": 5,
   "metadata": {},
   "outputs": [
    {
     "name": "stdout",
     "output_type": "stream",
     "text": [
      "6\n"
     ]
    }
   ],
   "source": [
    "J('3 factorial')"
   ]
  },
  {
   "cell_type": "markdown",
   "metadata": {},
   "source": [
    "We have a form:\n",
    "\n",
    "    1 swap P [[*] dupdip -- P] loop pop\n",
    "    n swap P [[A] dupdip B  P] loop pop\n",
    "\n",
    "With\n",
    "- `n` is the \"identity\" for `A`\n",
    "- `A :: (a, a) -> a`\n",
    "- `B :: a -> a` generates the next value `a`\n",
    "- and lastly `P :: a -> Bool` detects the end of the series.\n",
    "\n",
    "The form starts with some value on the stack and duplicates it.  One copy is combined with the current value by `A`, and the other is modified by `B` to generate the next value for the loop, which continues until `P` returns `False`.\n",
    "\n",
    "    n [A] [B] [P] paramorphism\n",
    "    ...\n",
    "    n swap P [[A] dupdip B P] loop pop\n",
    "\n",
    "\n",
    "\n",
    "    n  [A] [B] [P] concat\n",
    "    n  [A] [B P] [dupdip] swoncat\n",
    "    n  [A] [dupdip B P] cons\n",
    "    n [[A] dupdip B P]\n",
    "\n",
    "Introduce the other `[P]`:\n",
    "\n",
    "    n swap P [[A] dupdip B P]                        loop pop\n",
    "    n        [[A] dupdip B P] [swap P]           dip loop pop\n",
    "    n        [[A] dupdip B P] [P] [swap] swoncat dip loop pop\n",
    "\n",
    "Putting them together:\n",
    "\n",
    "    n [A] [B] [P] [concat [dupdip] swoncat cons] dipdup [swap] swoncat dip loop pop\n",
    "    n [A] [B] [P]  concat [dupdip] swoncat cons [P] [swap] swoncat dip loop pop\n",
    "    n [A] [B   P]         [dupdip] swoncat cons [P] [swap] swoncat dip loop pop\n",
    "    n [A] [dupdip B P]                    cons [P] [swap] swoncat dip loop pop\n",
    "    n [[A] dupdip B P] [P] [swap] swoncat dip loop pop\n",
    "    n [[A] dupdip B P] [swap P]           dip loop pop\n",
    "    n swap P [[A] dupdip B P] loop pop\n",
    "\n"
   ]
  },
  {
   "cell_type": "code",
   "execution_count": 6,
   "metadata": {},
   "outputs": [],
   "source": [
    "define('paramorphism == [concat [dupdip] swoncat cons] dupdip [swap] swoncat dip loop pop')\n",
    "define('factorial == 1 [*] [--] [P] paramorphism')"
   ]
  },
  {
   "cell_type": "code",
   "execution_count": 7,
   "metadata": {
    "scrolled": true
   },
   "outputs": [
    {
     "name": "stdout",
     "output_type": "stream",
     "text": [
      "                                                . 3 factorial\n",
      "                                              3 . factorial\n",
      "                                              3 . 1 [*] [--] [P] paramorphism\n",
      "                                            3 1 . [*] [--] [P] paramorphism\n",
      "                                        3 1 [*] . [--] [P] paramorphism\n",
      "                                   3 1 [*] [--] . [P] paramorphism\n",
      "                               3 1 [*] [--] [P] . paramorphism\n",
      "                               3 1 [*] [--] [P] . [concat [dupdip] swoncat cons] dupdip [swap] swoncat dip loop pop\n",
      "3 1 [*] [--] [P] [concat [dupdip] swoncat cons] . dupdip [swap] swoncat dip loop pop\n",
      "                               3 1 [*] [--] [P] . concat [dupdip] swoncat cons [P] [swap] swoncat dip loop pop\n",
      "                                 3 1 [*] [-- P] . [dupdip] swoncat cons [P] [swap] swoncat dip loop pop\n",
      "                        3 1 [*] [-- P] [dupdip] . swoncat cons [P] [swap] swoncat dip loop pop\n",
      "                        3 1 [*] [-- P] [dupdip] . swap concat cons [P] [swap] swoncat dip loop pop\n",
      "                        3 1 [*] [dupdip] [-- P] . concat cons [P] [swap] swoncat dip loop pop\n",
      "                          3 1 [*] [dupdip -- P] . cons [P] [swap] swoncat dip loop pop\n",
      "                          3 1 [[*] dupdip -- P] . [P] [swap] swoncat dip loop pop\n",
      "                      3 1 [[*] dupdip -- P] [P] . [swap] swoncat dip loop pop\n",
      "               3 1 [[*] dupdip -- P] [P] [swap] . swoncat dip loop pop\n",
      "               3 1 [[*] dupdip -- P] [P] [swap] . swap concat dip loop pop\n",
      "               3 1 [[*] dupdip -- P] [swap] [P] . concat dip loop pop\n",
      "                 3 1 [[*] dupdip -- P] [swap P] . dip loop pop\n",
      "                                            3 1 . swap P [[*] dupdip -- P] loop pop\n",
      "                                            1 3 . P [[*] dupdip -- P] loop pop\n",
      "                                            1 3 . dup 1 > [[*] dupdip -- P] loop pop\n",
      "                                          1 3 3 . 1 > [[*] dupdip -- P] loop pop\n",
      "                                        1 3 3 1 . > [[*] dupdip -- P] loop pop\n",
      "                                       1 3 True . [[*] dupdip -- P] loop pop\n",
      "                     1 3 True [[*] dupdip -- P] . loop pop\n",
      "                                            1 3 . [*] dupdip -- P [[*] dupdip -- P] loop pop\n",
      "                                        1 3 [*] . dupdip -- P [[*] dupdip -- P] loop pop\n",
      "                                            1 3 . * 3 -- P [[*] dupdip -- P] loop pop\n",
      "                                              3 . 3 -- P [[*] dupdip -- P] loop pop\n",
      "                                            3 3 . -- P [[*] dupdip -- P] loop pop\n",
      "                                            3 2 . P [[*] dupdip -- P] loop pop\n",
      "                                            3 2 . dup 1 > [[*] dupdip -- P] loop pop\n",
      "                                          3 2 2 . 1 > [[*] dupdip -- P] loop pop\n",
      "                                        3 2 2 1 . > [[*] dupdip -- P] loop pop\n",
      "                                       3 2 True . [[*] dupdip -- P] loop pop\n",
      "                     3 2 True [[*] dupdip -- P] . loop pop\n",
      "                                            3 2 . [*] dupdip -- P [[*] dupdip -- P] loop pop\n",
      "                                        3 2 [*] . dupdip -- P [[*] dupdip -- P] loop pop\n",
      "                                            3 2 . * 2 -- P [[*] dupdip -- P] loop pop\n",
      "                                              6 . 2 -- P [[*] dupdip -- P] loop pop\n",
      "                                            6 2 . -- P [[*] dupdip -- P] loop pop\n",
      "                                            6 1 . P [[*] dupdip -- P] loop pop\n",
      "                                            6 1 . dup 1 > [[*] dupdip -- P] loop pop\n",
      "                                          6 1 1 . 1 > [[*] dupdip -- P] loop pop\n",
      "                                        6 1 1 1 . > [[*] dupdip -- P] loop pop\n",
      "                                      6 1 False . [[*] dupdip -- P] loop pop\n",
      "                    6 1 False [[*] dupdip -- P] . loop pop\n",
      "                                            6 1 . pop\n",
      "                                              6 . \n"
     ]
    }
   ],
   "source": [
    "V('3 factorial')"
   ]
  },
  {
   "cell_type": "markdown",
   "metadata": {},
   "source": [
    "# `primrec` Recursive Form\n",
    "    n swap [P] [pop] [[A] dupdip B] primrec\n",
    "    \n",
    "(Note that `P` is inverted from above, becoming `1 <=`.  Also it no longer requires `dup` because in the `primrec` combinator it is executed with its own copy of the stack so it can consume items so long as it leaves a Boolean on top when it's finished.)"
   ]
  },
  {
   "cell_type": "code",
   "execution_count": 8,
   "metadata": {},
   "outputs": [],
   "source": [
    "define('factorial == 1 swap [1 <=] [pop] [[*] dupdip --] primrec')"
   ]
  },
  {
   "cell_type": "code",
   "execution_count": 9,
   "metadata": {
    "scrolled": true
   },
   "outputs": [
    {
     "name": "stdout",
     "output_type": "stream",
     "text": [
      "                                                                                   . 3 factorial\n",
      "                                                                                 3 . factorial\n",
      "                                                                                 3 . 1 swap [1 <=] [pop] [[*] dupdip --] primrec\n",
      "                                                                               3 1 . swap [1 <=] [pop] [[*] dupdip --] primrec\n",
      "                                                                               1 3 . [1 <=] [pop] [[*] dupdip --] primrec\n",
      "                                                                        1 3 [1 <=] . [pop] [[*] dupdip --] primrec\n",
      "                                                                  1 3 [1 <=] [pop] . [[*] dupdip --] primrec\n",
      "                                                  1 3 [1 <=] [pop] [[*] dupdip --] . primrec\n",
      "                                                  1 3 [1 <=] [pop] [[*] dupdip --] . [i] genrec\n",
      "                                              1 3 [1 <=] [pop] [[*] dupdip --] [i] . genrec\n",
      "      1 3 [1 <=] [pop] [[*] dupdip -- [[1 <=] [pop] [[*] dupdip --] [i] genrec] i] . ifte\n",
      "1 3 [[*] dupdip -- [[1 <=] [pop] [[*] dupdip --] [i] genrec] i] [pop] [3 1] [1 <=] . infra first choice i\n",
      "                                                                               1 3 . 1 <= [[pop] [[*] dupdip -- [[1 <=] [pop] [[*] dupdip --] [i] genrec] i] 3 1] swaack first choice i\n",
      "                                                                             1 3 1 . <= [[pop] [[*] dupdip -- [[1 <=] [pop] [[*] dupdip --] [i] genrec] i] 3 1] swaack first choice i\n",
      "                                                                           1 False . [[pop] [[*] dupdip -- [[1 <=] [pop] [[*] dupdip --] [i] genrec] i] 3 1] swaack first choice i\n",
      "   1 False [[pop] [[*] dupdip -- [[1 <=] [pop] [[*] dupdip --] [i] genrec] i] 3 1] . swaack first choice i\n",
      "   1 3 [[*] dupdip -- [[1 <=] [pop] [[*] dupdip --] [i] genrec] i] [pop] [False 1] . first choice i\n",
      "       1 3 [[*] dupdip -- [[1 <=] [pop] [[*] dupdip --] [i] genrec] i] [pop] False . choice i\n",
      "                   1 3 [[*] dupdip -- [[1 <=] [pop] [[*] dupdip --] [i] genrec] i] . i\n",
      "                                                                               1 3 . [*] dupdip -- [[1 <=] [pop] [[*] dupdip --] [i] genrec] i\n",
      "                                                                           1 3 [*] . dupdip -- [[1 <=] [pop] [[*] dupdip --] [i] genrec] i\n",
      "                                                                               1 3 . * 3 -- [[1 <=] [pop] [[*] dupdip --] [i] genrec] i\n",
      "                                                                                 3 . 3 -- [[1 <=] [pop] [[*] dupdip --] [i] genrec] i\n",
      "                                                                               3 3 . -- [[1 <=] [pop] [[*] dupdip --] [i] genrec] i\n",
      "                                                                               3 2 . [[1 <=] [pop] [[*] dupdip --] [i] genrec] i\n",
      "                                     3 2 [[1 <=] [pop] [[*] dupdip --] [i] genrec] . i\n",
      "                                                                               3 2 . [1 <=] [pop] [[*] dupdip --] [i] genrec\n",
      "                                                                        3 2 [1 <=] . [pop] [[*] dupdip --] [i] genrec\n",
      "                                                                  3 2 [1 <=] [pop] . [[*] dupdip --] [i] genrec\n",
      "                                                  3 2 [1 <=] [pop] [[*] dupdip --] . [i] genrec\n",
      "                                              3 2 [1 <=] [pop] [[*] dupdip --] [i] . genrec\n",
      "      3 2 [1 <=] [pop] [[*] dupdip -- [[1 <=] [pop] [[*] dupdip --] [i] genrec] i] . ifte\n",
      "3 2 [[*] dupdip -- [[1 <=] [pop] [[*] dupdip --] [i] genrec] i] [pop] [2 3] [1 <=] . infra first choice i\n",
      "                                                                               3 2 . 1 <= [[pop] [[*] dupdip -- [[1 <=] [pop] [[*] dupdip --] [i] genrec] i] 2 3] swaack first choice i\n",
      "                                                                             3 2 1 . <= [[pop] [[*] dupdip -- [[1 <=] [pop] [[*] dupdip --] [i] genrec] i] 2 3] swaack first choice i\n",
      "                                                                           3 False . [[pop] [[*] dupdip -- [[1 <=] [pop] [[*] dupdip --] [i] genrec] i] 2 3] swaack first choice i\n",
      "   3 False [[pop] [[*] dupdip -- [[1 <=] [pop] [[*] dupdip --] [i] genrec] i] 2 3] . swaack first choice i\n",
      "   3 2 [[*] dupdip -- [[1 <=] [pop] [[*] dupdip --] [i] genrec] i] [pop] [False 3] . first choice i\n",
      "       3 2 [[*] dupdip -- [[1 <=] [pop] [[*] dupdip --] [i] genrec] i] [pop] False . choice i\n",
      "                   3 2 [[*] dupdip -- [[1 <=] [pop] [[*] dupdip --] [i] genrec] i] . i\n",
      "                                                                               3 2 . [*] dupdip -- [[1 <=] [pop] [[*] dupdip --] [i] genrec] i\n",
      "                                                                           3 2 [*] . dupdip -- [[1 <=] [pop] [[*] dupdip --] [i] genrec] i\n",
      "                                                                               3 2 . * 2 -- [[1 <=] [pop] [[*] dupdip --] [i] genrec] i\n",
      "                                                                                 6 . 2 -- [[1 <=] [pop] [[*] dupdip --] [i] genrec] i\n",
      "                                                                               6 2 . -- [[1 <=] [pop] [[*] dupdip --] [i] genrec] i\n",
      "                                                                               6 1 . [[1 <=] [pop] [[*] dupdip --] [i] genrec] i\n",
      "                                     6 1 [[1 <=] [pop] [[*] dupdip --] [i] genrec] . i\n",
      "                                                                               6 1 . [1 <=] [pop] [[*] dupdip --] [i] genrec\n",
      "                                                                        6 1 [1 <=] . [pop] [[*] dupdip --] [i] genrec\n",
      "                                                                  6 1 [1 <=] [pop] . [[*] dupdip --] [i] genrec\n",
      "                                                  6 1 [1 <=] [pop] [[*] dupdip --] . [i] genrec\n",
      "                                              6 1 [1 <=] [pop] [[*] dupdip --] [i] . genrec\n",
      "      6 1 [1 <=] [pop] [[*] dupdip -- [[1 <=] [pop] [[*] dupdip --] [i] genrec] i] . ifte\n",
      "6 1 [[*] dupdip -- [[1 <=] [pop] [[*] dupdip --] [i] genrec] i] [pop] [1 6] [1 <=] . infra first choice i\n",
      "                                                                               6 1 . 1 <= [[pop] [[*] dupdip -- [[1 <=] [pop] [[*] dupdip --] [i] genrec] i] 1 6] swaack first choice i\n",
      "                                                                             6 1 1 . <= [[pop] [[*] dupdip -- [[1 <=] [pop] [[*] dupdip --] [i] genrec] i] 1 6] swaack first choice i\n",
      "                                                                            6 True . [[pop] [[*] dupdip -- [[1 <=] [pop] [[*] dupdip --] [i] genrec] i] 1 6] swaack first choice i\n",
      "    6 True [[pop] [[*] dupdip -- [[1 <=] [pop] [[*] dupdip --] [i] genrec] i] 1 6] . swaack first choice i\n",
      "    6 1 [[*] dupdip -- [[1 <=] [pop] [[*] dupdip --] [i] genrec] i] [pop] [True 6] . first choice i\n",
      "        6 1 [[*] dupdip -- [[1 <=] [pop] [[*] dupdip --] [i] genrec] i] [pop] True . choice i\n",
      "                                                                         6 1 [pop] . i\n",
      "                                                                               6 1 . pop\n",
      "                                                                                 6 . \n"
     ]
    }
   ],
   "source": [
    "V('3 factorial')"
   ]
  },
  {
   "cell_type": "markdown",
   "metadata": {},
   "source": [
    "### Derive `paramorphism` form the form above.\n",
    "    n swap [P]       [pop]     [[A] dupdip B]                  primrec\n",
    "    n [P] [swap] dip [pop]     [[A] dupdip B]                  primrec\n",
    "    n [P] [[A] dupdip B]                [[swap] dip [pop]] dip primrec\n",
    "    n [P] [A] [dupdip B]           cons [[swap] dip [pop]] dip primrec\n",
    "    n [P] [A] [B] [dupdip] swoncat cons [[swap] dip [pop]] dip primrec\n",
    "\n",
    "(Note the order of arguments is different, `[P]` is no longer at the top of the stack.)\n",
    "\n",
    "    paramorphism == [dupdip] swoncat cons [[swap] dip [pop]] dip primrec"
   ]
  },
  {
   "cell_type": "code",
   "execution_count": 10,
   "metadata": {},
   "outputs": [],
   "source": [
    "define('paramorphism == [dupdip] swoncat cons [[swap] dip [pop]] dip primrec')\n",
    "define('factorial == 1 [1 <=] [*] [--] paramorphism')"
   ]
  },
  {
   "cell_type": "code",
   "execution_count": 11,
   "metadata": {
    "scrolled": true
   },
   "outputs": [
    {
     "name": "stdout",
     "output_type": "stream",
     "text": [
      "                                                                                   . 3 factorial\n",
      "                                                                                 3 . factorial\n",
      "                                                                                 3 . 1 [1 <=] [*] [--] paramorphism\n",
      "                                                                               3 1 . [1 <=] [*] [--] paramorphism\n",
      "                                                                        3 1 [1 <=] . [*] [--] paramorphism\n",
      "                                                                    3 1 [1 <=] [*] . [--] paramorphism\n",
      "                                                               3 1 [1 <=] [*] [--] . paramorphism\n",
      "                                                               3 1 [1 <=] [*] [--] . [dupdip] swoncat cons [[swap] dip [pop]] dip primrec\n",
      "                                                      3 1 [1 <=] [*] [--] [dupdip] . swoncat cons [[swap] dip [pop]] dip primrec\n",
      "                                                      3 1 [1 <=] [*] [--] [dupdip] . swap concat cons [[swap] dip [pop]] dip primrec\n",
      "                                                      3 1 [1 <=] [*] [dupdip] [--] . concat cons [[swap] dip [pop]] dip primrec\n",
      "                                                        3 1 [1 <=] [*] [dupdip --] . cons [[swap] dip [pop]] dip primrec\n",
      "                                                        3 1 [1 <=] [[*] dupdip --] . [[swap] dip [pop]] dip primrec\n",
      "                                     3 1 [1 <=] [[*] dupdip --] [[swap] dip [pop]] . dip primrec\n",
      "                                                                        3 1 [1 <=] . [swap] dip [pop] [[*] dupdip --] primrec\n",
      "                                                                 3 1 [1 <=] [swap] . dip [pop] [[*] dupdip --] primrec\n",
      "                                                                               3 1 . swap [1 <=] [pop] [[*] dupdip --] primrec\n",
      "                                                                               1 3 . [1 <=] [pop] [[*] dupdip --] primrec\n",
      "                                                                        1 3 [1 <=] . [pop] [[*] dupdip --] primrec\n",
      "                                                                  1 3 [1 <=] [pop] . [[*] dupdip --] primrec\n",
      "                                                  1 3 [1 <=] [pop] [[*] dupdip --] . primrec\n",
      "                                                  1 3 [1 <=] [pop] [[*] dupdip --] . [i] genrec\n",
      "                                              1 3 [1 <=] [pop] [[*] dupdip --] [i] . genrec\n",
      "      1 3 [1 <=] [pop] [[*] dupdip -- [[1 <=] [pop] [[*] dupdip --] [i] genrec] i] . ifte\n",
      "1 3 [[*] dupdip -- [[1 <=] [pop] [[*] dupdip --] [i] genrec] i] [pop] [3 1] [1 <=] . infra first choice i\n",
      "                                                                               1 3 . 1 <= [[pop] [[*] dupdip -- [[1 <=] [pop] [[*] dupdip --] [i] genrec] i] 3 1] swaack first choice i\n",
      "                                                                             1 3 1 . <= [[pop] [[*] dupdip -- [[1 <=] [pop] [[*] dupdip --] [i] genrec] i] 3 1] swaack first choice i\n",
      "                                                                           1 False . [[pop] [[*] dupdip -- [[1 <=] [pop] [[*] dupdip --] [i] genrec] i] 3 1] swaack first choice i\n",
      "   1 False [[pop] [[*] dupdip -- [[1 <=] [pop] [[*] dupdip --] [i] genrec] i] 3 1] . swaack first choice i\n",
      "   1 3 [[*] dupdip -- [[1 <=] [pop] [[*] dupdip --] [i] genrec] i] [pop] [False 1] . first choice i\n",
      "       1 3 [[*] dupdip -- [[1 <=] [pop] [[*] dupdip --] [i] genrec] i] [pop] False . choice i\n",
      "                   1 3 [[*] dupdip -- [[1 <=] [pop] [[*] dupdip --] [i] genrec] i] . i\n",
      "                                                                               1 3 . [*] dupdip -- [[1 <=] [pop] [[*] dupdip --] [i] genrec] i\n",
      "                                                                           1 3 [*] . dupdip -- [[1 <=] [pop] [[*] dupdip --] [i] genrec] i\n",
      "                                                                               1 3 . * 3 -- [[1 <=] [pop] [[*] dupdip --] [i] genrec] i\n",
      "                                                                                 3 . 3 -- [[1 <=] [pop] [[*] dupdip --] [i] genrec] i\n",
      "                                                                               3 3 . -- [[1 <=] [pop] [[*] dupdip --] [i] genrec] i\n",
      "                                                                               3 2 . [[1 <=] [pop] [[*] dupdip --] [i] genrec] i\n",
      "                                     3 2 [[1 <=] [pop] [[*] dupdip --] [i] genrec] . i\n",
      "                                                                               3 2 . [1 <=] [pop] [[*] dupdip --] [i] genrec\n",
      "                                                                        3 2 [1 <=] . [pop] [[*] dupdip --] [i] genrec\n",
      "                                                                  3 2 [1 <=] [pop] . [[*] dupdip --] [i] genrec\n",
      "                                                  3 2 [1 <=] [pop] [[*] dupdip --] . [i] genrec\n",
      "                                              3 2 [1 <=] [pop] [[*] dupdip --] [i] . genrec\n",
      "      3 2 [1 <=] [pop] [[*] dupdip -- [[1 <=] [pop] [[*] dupdip --] [i] genrec] i] . ifte\n",
      "3 2 [[*] dupdip -- [[1 <=] [pop] [[*] dupdip --] [i] genrec] i] [pop] [2 3] [1 <=] . infra first choice i\n",
      "                                                                               3 2 . 1 <= [[pop] [[*] dupdip -- [[1 <=] [pop] [[*] dupdip --] [i] genrec] i] 2 3] swaack first choice i\n",
      "                                                                             3 2 1 . <= [[pop] [[*] dupdip -- [[1 <=] [pop] [[*] dupdip --] [i] genrec] i] 2 3] swaack first choice i\n",
      "                                                                           3 False . [[pop] [[*] dupdip -- [[1 <=] [pop] [[*] dupdip --] [i] genrec] i] 2 3] swaack first choice i\n",
      "   3 False [[pop] [[*] dupdip -- [[1 <=] [pop] [[*] dupdip --] [i] genrec] i] 2 3] . swaack first choice i\n",
      "   3 2 [[*] dupdip -- [[1 <=] [pop] [[*] dupdip --] [i] genrec] i] [pop] [False 3] . first choice i\n",
      "       3 2 [[*] dupdip -- [[1 <=] [pop] [[*] dupdip --] [i] genrec] i] [pop] False . choice i\n",
      "                   3 2 [[*] dupdip -- [[1 <=] [pop] [[*] dupdip --] [i] genrec] i] . i\n",
      "                                                                               3 2 . [*] dupdip -- [[1 <=] [pop] [[*] dupdip --] [i] genrec] i\n",
      "                                                                           3 2 [*] . dupdip -- [[1 <=] [pop] [[*] dupdip --] [i] genrec] i\n",
      "                                                                               3 2 . * 2 -- [[1 <=] [pop] [[*] dupdip --] [i] genrec] i\n",
      "                                                                                 6 . 2 -- [[1 <=] [pop] [[*] dupdip --] [i] genrec] i\n",
      "                                                                               6 2 . -- [[1 <=] [pop] [[*] dupdip --] [i] genrec] i\n",
      "                                                                               6 1 . [[1 <=] [pop] [[*] dupdip --] [i] genrec] i\n",
      "                                     6 1 [[1 <=] [pop] [[*] dupdip --] [i] genrec] . i\n",
      "                                                                               6 1 . [1 <=] [pop] [[*] dupdip --] [i] genrec\n",
      "                                                                        6 1 [1 <=] . [pop] [[*] dupdip --] [i] genrec\n",
      "                                                                  6 1 [1 <=] [pop] . [[*] dupdip --] [i] genrec\n",
      "                                                  6 1 [1 <=] [pop] [[*] dupdip --] . [i] genrec\n",
      "                                              6 1 [1 <=] [pop] [[*] dupdip --] [i] . genrec\n",
      "      6 1 [1 <=] [pop] [[*] dupdip -- [[1 <=] [pop] [[*] dupdip --] [i] genrec] i] . ifte\n",
      "6 1 [[*] dupdip -- [[1 <=] [pop] [[*] dupdip --] [i] genrec] i] [pop] [1 6] [1 <=] . infra first choice i\n",
      "                                                                               6 1 . 1 <= [[pop] [[*] dupdip -- [[1 <=] [pop] [[*] dupdip --] [i] genrec] i] 1 6] swaack first choice i\n",
      "                                                                             6 1 1 . <= [[pop] [[*] dupdip -- [[1 <=] [pop] [[*] dupdip --] [i] genrec] i] 1 6] swaack first choice i\n",
      "                                                                            6 True . [[pop] [[*] dupdip -- [[1 <=] [pop] [[*] dupdip --] [i] genrec] i] 1 6] swaack first choice i\n",
      "    6 True [[pop] [[*] dupdip -- [[1 <=] [pop] [[*] dupdip --] [i] genrec] i] 1 6] . swaack first choice i\n",
      "    6 1 [[*] dupdip -- [[1 <=] [pop] [[*] dupdip --] [i] genrec] i] [pop] [True 6] . first choice i\n",
      "        6 1 [[*] dupdip -- [[1 <=] [pop] [[*] dupdip --] [i] genrec] i] [pop] True . choice i\n",
      "                                                                         6 1 [pop] . i\n",
      "                                                                               6 1 . pop\n",
      "                                                                                 6 . \n"
     ]
    }
   ],
   "source": [
    "V('3 factorial')"
   ]
  },
  {
   "cell_type": "markdown",
   "metadata": {},
   "source": [
    "# `tails`\n",
    "An example of a paramorphism for lists given in the [\"Bananas...\" paper](http://citeseerx.ist.psu.edu/viewdoc/summary?doi=10.1.1.41.125) is `tails` which returns the list of \"tails\" of a list.\n",
    "\n",
    "    [1 2 3] tails == [[] [3] [2 3]]\n",
    "    \n",
    "Using `paramorphism` we would write:\n",
    "\n",
    "    tails == [] [not] [rest swons] [rest] paramorphism"
   ]
  },
  {
   "cell_type": "code",
   "execution_count": 12,
   "metadata": {},
   "outputs": [],
   "source": [
    "define('tails == [] [not] [rest swons] [rest] paramorphism')"
   ]
  },
  {
   "cell_type": "code",
   "execution_count": 13,
   "metadata": {},
   "outputs": [
    {
     "name": "stdout",
     "output_type": "stream",
     "text": [
      "[[] [3] [2 3]]\n"
     ]
    }
   ],
   "source": [
    "J('[1 2 3] tails')"
   ]
  },
  {
   "cell_type": "markdown",
   "metadata": {},
   "source": [
    "### Factoring `rest`\n",
    "Right before the recursion begins we have:\n",
    "    \n",
    "    [] [1 2 3] [not] [pop] [[rest swons] dupdip rest] primrec\n",
    "    \n",
    "But we might prefer to factor `rest` in the quote:\n",
    "\n",
    "    [] [1 2 3] [not] [pop] [rest [swons] dupdip] primrec\n",
    "\n",
    "There's no way to do that with the `paramorphism` combinator as defined.  We would have to write and use a slightly different recursion combinator or just write it manually.  This is yet another place where the *sufficiently smart compiler* will one day automatically refactor the code."
   ]
  },
  {
   "cell_type": "code",
   "execution_count": 14,
   "metadata": {},
   "outputs": [
    {
     "name": "stdout",
     "output_type": "stream",
     "text": [
      "[[] [3] [2 3]]\n"
     ]
    }
   ],
   "source": [
    "J('[] [1 2 3] [not] [pop] [rest [swons] dupdip] primrec')"
   ]
  }
 ],
 "metadata": {
  "kernelspec": {
   "display_name": "Python 2",
   "language": "python",
   "name": "python2"
  },
  "language_info": {
   "codemirror_mode": {
    "name": "ipython",
    "version": 2
   },
   "file_extension": ".py",
   "mimetype": "text/x-python",
   "name": "python",
   "nbconvert_exporter": "python",
   "pygments_lexer": "ipython2",
   "version": "2.7.13"
  }
 },
 "nbformat": 4,
 "nbformat_minor": 2
}
